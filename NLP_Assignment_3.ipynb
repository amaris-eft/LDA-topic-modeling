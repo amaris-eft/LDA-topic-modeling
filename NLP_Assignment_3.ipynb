{
  "cells": [
    {
      "cell_type": "markdown",
      "metadata": {
        "id": "2o55KrNI7U1H"
      },
      "source": [
        "## Assignment 3 ##\n",
        "\n",
        "Your Name: Amaris Efthimou\n",
        "\n",
        "## Assignment Question ##\n",
        "\n",
        "Using the below data set, perform LDA topic modeling to identify multiple latent topics inside.\n",
        "\n",
        "The number of topipcs is not fixed, it is up to you to decide how many topics to go with.\n",
        "\n",
        "## Grading Guidelines: ##\n",
        "\n",
        "You need to show all the steps (Codes & outputs) from uploading the data set to performing topic modeling to derive topics with keywords.\n",
        "\n",
        "DO NOT CLEAR THE OUTPUTS (Leave the outputs printed).\n"
      ]
    },
    {
      "cell_type": "markdown",
      "metadata": {
        "id": "sD2ZNBg07U1J"
      },
      "source": [
        "## Step 1: Load the dataset\n",
        "\n",
        "The dataset we'll use is a list of news headlines published over a period of 15 years. \n",
        "\n",
        "We'll start by loading it from the `abcnews-date-text.csv` file."
      ]
    },
    {
      "cell_type": "code",
      "execution_count": 1,
      "metadata": {
        "id": "yU1r_xFj-8-H"
      },
      "outputs": [],
      "source": [
        "import pandas as pd\n",
        "import matplotlib.pyplot as plt"
      ]
    },
    {
      "cell_type": "code",
      "execution_count": 2,
      "metadata": {
        "colab": {
          "base_uri": "https://localhost:8080/"
        },
        "id": "pYeBBTnl_O_o",
        "outputId": "bfe17caf-d777-4c56-8158-9235616dd06e"
      },
      "outputs": [
        {
          "name": "stdout",
          "output_type": "stream",
          "text": [
            "Drive already mounted at /content/gdrive; to attempt to forcibly remount, call drive.mount(\"/content/gdrive\", force_remount=True).\n"
          ]
        }
      ],
      "source": [
        "#connect Colab to your Google Drive.\n",
        "from google.colab import drive\n",
        "import os\n",
        "drive.mount('/content/gdrive')"
      ]
    },
    {
      "cell_type": "code",
      "execution_count": 3,
      "metadata": {
        "id": "en3ryqgl7U1K",
        "scrolled": true
      },
      "outputs": [],
      "source": [
        "news = pd.read_csv('/content/gdrive/My Drive/abcnews-date-text.csv')"
      ]
    },
    {
      "cell_type": "code",
      "execution_count": 4,
      "metadata": {
        "colab": {
          "base_uri": "https://localhost:8080/",
          "height": 206
        },
        "id": "tkLZ4le1DxFr",
        "outputId": "ed2565fe-63fd-47df-ed45-e0133fcf8948"
      },
      "outputs": [
        {
          "data": {
            "text/html": [
              "\n",
              "  <div id=\"df-cb9ee32a-9673-4618-84bd-e60e1a9bcefa\">\n",
              "    <div class=\"colab-df-container\">\n",
              "      <div>\n",
              "<style scoped>\n",
              "    .dataframe tbody tr th:only-of-type {\n",
              "        vertical-align: middle;\n",
              "    }\n",
              "\n",
              "    .dataframe tbody tr th {\n",
              "        vertical-align: top;\n",
              "    }\n",
              "\n",
              "    .dataframe thead th {\n",
              "        text-align: right;\n",
              "    }\n",
              "</style>\n",
              "<table border=\"1\" class=\"dataframe\">\n",
              "  <thead>\n",
              "    <tr style=\"text-align: right;\">\n",
              "      <th></th>\n",
              "      <th>publish_date</th>\n",
              "      <th>headline_text</th>\n",
              "    </tr>\n",
              "  </thead>\n",
              "  <tbody>\n",
              "    <tr>\n",
              "      <th>0</th>\n",
              "      <td>20030219</td>\n",
              "      <td>aba decides against community broadcasting lic...</td>\n",
              "    </tr>\n",
              "    <tr>\n",
              "      <th>1</th>\n",
              "      <td>20030219</td>\n",
              "      <td>act fire witnesses must be aware of defamation</td>\n",
              "    </tr>\n",
              "    <tr>\n",
              "      <th>2</th>\n",
              "      <td>20030219</td>\n",
              "      <td>a g calls for infrastructure protection summit</td>\n",
              "    </tr>\n",
              "    <tr>\n",
              "      <th>3</th>\n",
              "      <td>20030219</td>\n",
              "      <td>air nz staff in aust strike for pay rise</td>\n",
              "    </tr>\n",
              "    <tr>\n",
              "      <th>4</th>\n",
              "      <td>20030219</td>\n",
              "      <td>air nz strike to affect australian travellers</td>\n",
              "    </tr>\n",
              "  </tbody>\n",
              "</table>\n",
              "</div>\n",
              "      <button class=\"colab-df-convert\" onclick=\"convertToInteractive('df-cb9ee32a-9673-4618-84bd-e60e1a9bcefa')\"\n",
              "              title=\"Convert this dataframe to an interactive table.\"\n",
              "              style=\"display:none;\">\n",
              "        \n",
              "  <svg xmlns=\"http://www.w3.org/2000/svg\" height=\"24px\"viewBox=\"0 0 24 24\"\n",
              "       width=\"24px\">\n",
              "    <path d=\"M0 0h24v24H0V0z\" fill=\"none\"/>\n",
              "    <path d=\"M18.56 5.44l.94 2.06.94-2.06 2.06-.94-2.06-.94-.94-2.06-.94 2.06-2.06.94zm-11 1L8.5 8.5l.94-2.06 2.06-.94-2.06-.94L8.5 2.5l-.94 2.06-2.06.94zm10 10l.94 2.06.94-2.06 2.06-.94-2.06-.94-.94-2.06-.94 2.06-2.06.94z\"/><path d=\"M17.41 7.96l-1.37-1.37c-.4-.4-.92-.59-1.43-.59-.52 0-1.04.2-1.43.59L10.3 9.45l-7.72 7.72c-.78.78-.78 2.05 0 2.83L4 21.41c.39.39.9.59 1.41.59.51 0 1.02-.2 1.41-.59l7.78-7.78 2.81-2.81c.8-.78.8-2.07 0-2.86zM5.41 20L4 18.59l7.72-7.72 1.47 1.35L5.41 20z\"/>\n",
              "  </svg>\n",
              "      </button>\n",
              "      \n",
              "  <style>\n",
              "    .colab-df-container {\n",
              "      display:flex;\n",
              "      flex-wrap:wrap;\n",
              "      gap: 12px;\n",
              "    }\n",
              "\n",
              "    .colab-df-convert {\n",
              "      background-color: #E8F0FE;\n",
              "      border: none;\n",
              "      border-radius: 50%;\n",
              "      cursor: pointer;\n",
              "      display: none;\n",
              "      fill: #1967D2;\n",
              "      height: 32px;\n",
              "      padding: 0 0 0 0;\n",
              "      width: 32px;\n",
              "    }\n",
              "\n",
              "    .colab-df-convert:hover {\n",
              "      background-color: #E2EBFA;\n",
              "      box-shadow: 0px 1px 2px rgba(60, 64, 67, 0.3), 0px 1px 3px 1px rgba(60, 64, 67, 0.15);\n",
              "      fill: #174EA6;\n",
              "    }\n",
              "\n",
              "    [theme=dark] .colab-df-convert {\n",
              "      background-color: #3B4455;\n",
              "      fill: #D2E3FC;\n",
              "    }\n",
              "\n",
              "    [theme=dark] .colab-df-convert:hover {\n",
              "      background-color: #434B5C;\n",
              "      box-shadow: 0px 1px 3px 1px rgba(0, 0, 0, 0.15);\n",
              "      filter: drop-shadow(0px 1px 2px rgba(0, 0, 0, 0.3));\n",
              "      fill: #FFFFFF;\n",
              "    }\n",
              "  </style>\n",
              "\n",
              "      <script>\n",
              "        const buttonEl =\n",
              "          document.querySelector('#df-cb9ee32a-9673-4618-84bd-e60e1a9bcefa button.colab-df-convert');\n",
              "        buttonEl.style.display =\n",
              "          google.colab.kernel.accessAllowed ? 'block' : 'none';\n",
              "\n",
              "        async function convertToInteractive(key) {\n",
              "          const element = document.querySelector('#df-cb9ee32a-9673-4618-84bd-e60e1a9bcefa');\n",
              "          const dataTable =\n",
              "            await google.colab.kernel.invokeFunction('convertToInteractive',\n",
              "                                                     [key], {});\n",
              "          if (!dataTable) return;\n",
              "\n",
              "          const docLinkHtml = 'Like what you see? Visit the ' +\n",
              "            '<a target=\"_blank\" href=https://colab.research.google.com/notebooks/data_table.ipynb>data table notebook</a>'\n",
              "            + ' to learn more about interactive tables.';\n",
              "          element.innerHTML = '';\n",
              "          dataTable['output_type'] = 'display_data';\n",
              "          await google.colab.output.renderOutput(dataTable, element);\n",
              "          const docLink = document.createElement('div');\n",
              "          docLink.innerHTML = docLinkHtml;\n",
              "          element.appendChild(docLink);\n",
              "        }\n",
              "      </script>\n",
              "    </div>\n",
              "  </div>\n",
              "  "
            ],
            "text/plain": [
              "   publish_date                                      headline_text\n",
              "0      20030219  aba decides against community broadcasting lic...\n",
              "1      20030219     act fire witnesses must be aware of defamation\n",
              "2      20030219     a g calls for infrastructure protection summit\n",
              "3      20030219           air nz staff in aust strike for pay rise\n",
              "4      20030219      air nz strike to affect australian travellers"
            ]
          },
          "execution_count": 4,
          "metadata": {},
          "output_type": "execute_result"
        }
      ],
      "source": [
        "news.head()"
      ]
    },
    {
      "cell_type": "markdown",
      "metadata": {
        "id": "bEcsp0Ru7U1L"
      },
      "source": [
        "## Step 2: Data Preprocessing ##\n",
        "\n",
        "We will perform the following steps:\n",
        "\n",
        "The order of the pre-processing steps doesn't have to be in this way.\n",
        "\n",
        "It is up to you whether you start tokenizing first or other processing steps or at the same time.\n",
        "\n",
        "HOWEVER, make sure that all the below steps are performed and applied to the headline text.\n",
        "\n",
        "* **Tokenization** \n",
        "* **Lowercasing** \n",
        "* **remove punctuations**\n",
        "* **Words that have fewer than 3 characters are removed**\n",
        "* **stopwords are removed**\n",
        "* **lemmatized** - words in third person are changed to first person and verbs in past and future tenses are changed into present.\n",
        "\n",
        "**Lemmatization code is give below, use the below code for lemmatization.**"
      ]
    },
    {
      "cell_type": "code",
      "execution_count": 5,
      "metadata": {
        "colab": {
          "base_uri": "https://localhost:8080/"
        },
        "id": "H5bzZo0B7U1L",
        "outputId": "dc3cd915-a310-4f3e-8d4e-6adabd05126d"
      },
      "outputs": [
        {
          "name": "stderr",
          "output_type": "stream",
          "text": [
            "[nltk_data] Downloading package stopwords to /root/nltk_data...\n",
            "[nltk_data]   Package stopwords is already up-to-date!\n",
            "[nltk_data] Downloading package wordnet to /root/nltk_data...\n",
            "[nltk_data]   Package wordnet is already up-to-date!\n",
            "[nltk_data] Downloading package omw-1.4 to /root/nltk_data...\n",
            "[nltk_data]   Package omw-1.4 is already up-to-date!\n"
          ]
        },
        {
          "data": {
            "text/plain": [
              "True"
            ]
          },
          "execution_count": 5,
          "metadata": {},
          "output_type": "execute_result"
        }
      ],
      "source": [
        "import nltk\n",
        "from gensim.parsing.preprocessing import STOPWORDS\n",
        "from nltk.stem import WordNetLemmatizer\n",
        "import numpy as np\n",
        "import string as str\n",
        "import gensim\n",
        "from gensim.utils import simple_preprocess\n",
        "np.random.seed(400)\n",
        "\n",
        "nltk.download('stopwords')\n",
        "nltk.download('wordnet')\n",
        "nltk.download('omw-1.4')"
      ]
    },
    {
      "cell_type": "code",
      "execution_count": 6,
      "metadata": {
        "colab": {
          "base_uri": "https://localhost:8080/"
        },
        "id": "7tV_hsKG7U1L",
        "outputId": "dd2df560-c884-46ee-a21f-ac4518b2f1d7"
      },
      "outputs": [
        {
          "name": "stdout",
          "output_type": "stream",
          "text": [
            "do\n"
          ]
        }
      ],
      "source": [
        "print(WordNetLemmatizer().lemmatize('did', pos = 'v'))"
      ]
    },
    {
      "cell_type": "code",
      "execution_count": 7,
      "metadata": {
        "id": "R89QHZiXJkcy"
      },
      "outputs": [],
      "source": [
        "from nltk.corpus import stopwords\n",
        "\n",
        "lem = WordNetLemmatizer()\n",
        "sw = set(stopwords.words('english'))\n",
        "def pp(text):\n",
        "    ans = []\n",
        "    for token in simple_preprocess(text):\n",
        "        if token not in sw and len(token) > 2:\n",
        "            ans.append(lem.lemmatize(token, pos='v'))\n",
        "    return ans\n",
        "news['headline_text2'] = news['headline_text'].apply(pp)"
      ]
    },
    {
      "cell_type": "code",
      "execution_count": 8,
      "metadata": {
        "colab": {
          "base_uri": "https://localhost:8080/",
          "height": 206
        },
        "id": "LQHee9izBMbw",
        "outputId": "3574c480-9762-4ed9-ae5e-6e430ff04986"
      },
      "outputs": [
        {
          "data": {
            "text/html": [
              "\n",
              "  <div id=\"df-eadaaffb-7379-4962-832a-2d2def48bc03\">\n",
              "    <div class=\"colab-df-container\">\n",
              "      <div>\n",
              "<style scoped>\n",
              "    .dataframe tbody tr th:only-of-type {\n",
              "        vertical-align: middle;\n",
              "    }\n",
              "\n",
              "    .dataframe tbody tr th {\n",
              "        vertical-align: top;\n",
              "    }\n",
              "\n",
              "    .dataframe thead th {\n",
              "        text-align: right;\n",
              "    }\n",
              "</style>\n",
              "<table border=\"1\" class=\"dataframe\">\n",
              "  <thead>\n",
              "    <tr style=\"text-align: right;\">\n",
              "      <th></th>\n",
              "      <th>publish_date</th>\n",
              "      <th>headline_text</th>\n",
              "      <th>headline_text2</th>\n",
              "    </tr>\n",
              "  </thead>\n",
              "  <tbody>\n",
              "    <tr>\n",
              "      <th>0</th>\n",
              "      <td>20030219</td>\n",
              "      <td>aba decides against community broadcasting lic...</td>\n",
              "      <td>[aba, decide, community, broadcast, licence]</td>\n",
              "    </tr>\n",
              "    <tr>\n",
              "      <th>1</th>\n",
              "      <td>20030219</td>\n",
              "      <td>act fire witnesses must be aware of defamation</td>\n",
              "      <td>[act, fire, witness, must, aware, defamation]</td>\n",
              "    </tr>\n",
              "    <tr>\n",
              "      <th>2</th>\n",
              "      <td>20030219</td>\n",
              "      <td>a g calls for infrastructure protection summit</td>\n",
              "      <td>[call, infrastructure, protection, summit]</td>\n",
              "    </tr>\n",
              "    <tr>\n",
              "      <th>3</th>\n",
              "      <td>20030219</td>\n",
              "      <td>air nz staff in aust strike for pay rise</td>\n",
              "      <td>[air, staff, aust, strike, pay, rise]</td>\n",
              "    </tr>\n",
              "    <tr>\n",
              "      <th>4</th>\n",
              "      <td>20030219</td>\n",
              "      <td>air nz strike to affect australian travellers</td>\n",
              "      <td>[air, strike, affect, australian, travellers]</td>\n",
              "    </tr>\n",
              "  </tbody>\n",
              "</table>\n",
              "</div>\n",
              "      <button class=\"colab-df-convert\" onclick=\"convertToInteractive('df-eadaaffb-7379-4962-832a-2d2def48bc03')\"\n",
              "              title=\"Convert this dataframe to an interactive table.\"\n",
              "              style=\"display:none;\">\n",
              "        \n",
              "  <svg xmlns=\"http://www.w3.org/2000/svg\" height=\"24px\"viewBox=\"0 0 24 24\"\n",
              "       width=\"24px\">\n",
              "    <path d=\"M0 0h24v24H0V0z\" fill=\"none\"/>\n",
              "    <path d=\"M18.56 5.44l.94 2.06.94-2.06 2.06-.94-2.06-.94-.94-2.06-.94 2.06-2.06.94zm-11 1L8.5 8.5l.94-2.06 2.06-.94-2.06-.94L8.5 2.5l-.94 2.06-2.06.94zm10 10l.94 2.06.94-2.06 2.06-.94-2.06-.94-.94-2.06-.94 2.06-2.06.94z\"/><path d=\"M17.41 7.96l-1.37-1.37c-.4-.4-.92-.59-1.43-.59-.52 0-1.04.2-1.43.59L10.3 9.45l-7.72 7.72c-.78.78-.78 2.05 0 2.83L4 21.41c.39.39.9.59 1.41.59.51 0 1.02-.2 1.41-.59l7.78-7.78 2.81-2.81c.8-.78.8-2.07 0-2.86zM5.41 20L4 18.59l7.72-7.72 1.47 1.35L5.41 20z\"/>\n",
              "  </svg>\n",
              "      </button>\n",
              "      \n",
              "  <style>\n",
              "    .colab-df-container {\n",
              "      display:flex;\n",
              "      flex-wrap:wrap;\n",
              "      gap: 12px;\n",
              "    }\n",
              "\n",
              "    .colab-df-convert {\n",
              "      background-color: #E8F0FE;\n",
              "      border: none;\n",
              "      border-radius: 50%;\n",
              "      cursor: pointer;\n",
              "      display: none;\n",
              "      fill: #1967D2;\n",
              "      height: 32px;\n",
              "      padding: 0 0 0 0;\n",
              "      width: 32px;\n",
              "    }\n",
              "\n",
              "    .colab-df-convert:hover {\n",
              "      background-color: #E2EBFA;\n",
              "      box-shadow: 0px 1px 2px rgba(60, 64, 67, 0.3), 0px 1px 3px 1px rgba(60, 64, 67, 0.15);\n",
              "      fill: #174EA6;\n",
              "    }\n",
              "\n",
              "    [theme=dark] .colab-df-convert {\n",
              "      background-color: #3B4455;\n",
              "      fill: #D2E3FC;\n",
              "    }\n",
              "\n",
              "    [theme=dark] .colab-df-convert:hover {\n",
              "      background-color: #434B5C;\n",
              "      box-shadow: 0px 1px 3px 1px rgba(0, 0, 0, 0.15);\n",
              "      filter: drop-shadow(0px 1px 2px rgba(0, 0, 0, 0.3));\n",
              "      fill: #FFFFFF;\n",
              "    }\n",
              "  </style>\n",
              "\n",
              "      <script>\n",
              "        const buttonEl =\n",
              "          document.querySelector('#df-eadaaffb-7379-4962-832a-2d2def48bc03 button.colab-df-convert');\n",
              "        buttonEl.style.display =\n",
              "          google.colab.kernel.accessAllowed ? 'block' : 'none';\n",
              "\n",
              "        async function convertToInteractive(key) {\n",
              "          const element = document.querySelector('#df-eadaaffb-7379-4962-832a-2d2def48bc03');\n",
              "          const dataTable =\n",
              "            await google.colab.kernel.invokeFunction('convertToInteractive',\n",
              "                                                     [key], {});\n",
              "          if (!dataTable) return;\n",
              "\n",
              "          const docLinkHtml = 'Like what you see? Visit the ' +\n",
              "            '<a target=\"_blank\" href=https://colab.research.google.com/notebooks/data_table.ipynb>data table notebook</a>'\n",
              "            + ' to learn more about interactive tables.';\n",
              "          element.innerHTML = '';\n",
              "          dataTable['output_type'] = 'display_data';\n",
              "          await google.colab.output.renderOutput(dataTable, element);\n",
              "          const docLink = document.createElement('div');\n",
              "          docLink.innerHTML = docLinkHtml;\n",
              "          element.appendChild(docLink);\n",
              "        }\n",
              "      </script>\n",
              "    </div>\n",
              "  </div>\n",
              "  "
            ],
            "text/plain": [
              "   publish_date                                      headline_text  \\\n",
              "0      20030219  aba decides against community broadcasting lic...   \n",
              "1      20030219     act fire witnesses must be aware of defamation   \n",
              "2      20030219     a g calls for infrastructure protection summit   \n",
              "3      20030219           air nz staff in aust strike for pay rise   \n",
              "4      20030219      air nz strike to affect australian travellers   \n",
              "\n",
              "                                  headline_text2  \n",
              "0   [aba, decide, community, broadcast, licence]  \n",
              "1  [act, fire, witness, must, aware, defamation]  \n",
              "2     [call, infrastructure, protection, summit]  \n",
              "3          [air, staff, aust, strike, pay, rise]  \n",
              "4  [air, strike, affect, australian, travellers]  "
            ]
          },
          "execution_count": 8,
          "metadata": {},
          "output_type": "execute_result"
        }
      ],
      "source": [
        "news.head()"
      ]
    },
    {
      "cell_type": "markdown",
      "metadata": {
        "id": "Wpk4EzWJ7U1M"
      },
      "source": [
        "## Step 3: Bag of words on the dataset\n",
        "\n",
        "* 3-1. Dictionary\n",
        "\n",
        "Create a dictionary from pre-processed headline texts containing the number of times a word appears in the training set. \n",
        "\n",
        "To do that, let's pass your pre-processed headline texts to [`gensim.corpora.Dictionary()`](https://radimrehurek.com/gensim/corpora/dictionary.html) and call it '`dictionary`'."
      ]
    },
    {
      "cell_type": "code",
      "execution_count": 9,
      "metadata": {
        "id": "AxhZRWnp7U1N"
      },
      "outputs": [],
      "source": [
        "dictionary = gensim.corpora.Dictionary()"
      ]
    },
    {
      "cell_type": "code",
      "execution_count": 10,
      "metadata": {
        "id": "4BzOCK8n-BKf"
      },
      "outputs": [],
      "source": [
        "from gensim.corpora import Dictionary\n",
        "headlines = news['headline_text2'].tolist()\n",
        "dictionary = Dictionary(headlines)"
      ]
    },
    {
      "cell_type": "markdown",
      "metadata": {
        "id": "FQrhdjfj7U1N"
      },
      "source": [
        "* 3-2. Gensim filter_extremes\n",
        "\n",
        "[`filter_extremes(no_below=i, no_above=j, keep_n=k) where i,j,k can be integers or fractions.`](https://radimrehurek.com/gensim/corpora/dictionary.html#gensim.corpora.dictionary.Dictionary.filter_extremes)\n",
        "\n",
        "Filter out tokens that appear in\n",
        "\n",
        "* less than no_below documents (absolute number) or\n",
        "* more than no_above documents (fraction of total corpus size, not absolute number).\n",
        "* after (1) and (2), keep only the first keep_n most frequent tokens (or keep all if None)."
      ]
    },
    {
      "cell_type": "code",
      "execution_count": 11,
      "metadata": {
        "id": "dFJnri7E7U1N"
      },
      "outputs": [],
      "source": [
        "i = 5 #no below\n",
        "j = 0.5 #no avove\n",
        "k = 10000 #keep n\n",
        "dictionary.filter_extremes(no_below=i, no_above=j, keep_n=k)"
      ]
    },
    {
      "cell_type": "markdown",
      "metadata": {
        "id": "IAxzxPhM7U1N"
      },
      "source": [
        "* 3-3. Gensim doc2bow\n",
        "\n",
        "* Gensim doc2bow (pass the tokenized words to doc2bow and convert those to vectors.)\n",
        "\n",
        "* Caution: No further preprocessing should be done such as tokenization, lemmatization, and etc before initiating this."
      ]
    },
    {
      "cell_type": "code",
      "execution_count": 12,
      "metadata": {
        "id": "ceu7hMA47U1N"
      },
      "outputs": [],
      "source": [
        "#code for step 3-3\n",
        "corpus = [dictionary.doc2bow(headline) for headline in headlines]"
      ]
    },
    {
      "cell_type": "markdown",
      "metadata": {
        "id": "gs0TIP5F7U1O"
      },
      "source": [
        "## Step 4: Running LDA using Bag of Words ##\n",
        "\n",
        "Perform LDA model on your final corpus.\n"
      ]
    },
    {
      "cell_type": "code",
      "execution_count": 13,
      "metadata": {
        "id": "4-wD4oTQ7U1O"
      },
      "outputs": [],
      "source": [
        "#Run LDA model on the final corpus.\n",
        "\n",
        "#num_topics: the number of latent topics to be extracted from the corpus.\n",
        "#id2word: mapping from word ids (integers) to words (strings).\n",
        "# Some other parameters. See the document explanations for more details.\n",
        "\n",
        "#code for step 4."
      ]
    },
    {
      "cell_type": "code",
      "execution_count": 14,
      "metadata": {
        "id": "bZsLZhRD7U1O"
      },
      "outputs": [],
      "source": [
        "#you may use multiple code blocks."
      ]
    },
    {
      "cell_type": "code",
      "execution_count": 17,
      "metadata": {
        "colab": {
          "base_uri": "https://localhost:8080/"
        },
        "id": "aotYmzMaOEMR",
        "outputId": "52a1810e-bb8d-448b-8d15-7fb5e4266093"
      },
      "outputs": [
        {
          "name": "stdout",
          "output_type": "stream",
          "text": [
            "Topic 0: day north one south use australia final war korea victoria\n",
            "Topic 1: canberra coast miss mine service west job bank gold cut\n",
            "Topic 2: plan show make change help say health indigenous power new\n",
            "Topic 3: australian fire attack house school year state ban tasmania trial\n",
            "Topic 4: queensland perth years jail china arrest life fight deal new\n",
            "Topic 5: police man trump sydney charge melbourne kill die crash woman\n",
            "Topic 6: court face get accuse child time interview say tell lose\n",
            "Topic 7: government election world home report tasmanian cup set pay bill\n",
            "Topic 8: australia donald first say test turnbull labor leave women country\n",
            "Topic 9: adelaide open market afl break league win share national concern\n"
          ]
        }
      ],
      "source": [
        "from gensim.models import LdaModel\n",
        "num_topics = 10  # Number of topics to be extracted\n",
        "passes = 5  # Number of passes through the corpus during training\n",
        "iterations = 10  # Maximum number of iterations for each training pass\n",
        "random_state = 42  # Random seed for reproducibility\n",
        "lda_model = LdaModel(corpus=corpus, num_topics=num_topics, id2word=dictionary, passes=passes, iterations=iterations, random_state=random_state)\n",
        "\n",
        "# Print topics and top 10 words in each topic\n",
        "topics = lda_model.show_topics(num_topics=num_topics, num_words=5)\n",
        "for topic in topics:\n",
        "    print(f\"Topic {topic[0]}: {' '.join(word[0] for word in lda_model.show_topic(topic[0], topn=10))}\")"
      ]
    },
    {
      "cell_type": "markdown",
      "metadata": {
        "id": "l1u0ruIL7U1P"
      },
      "source": [
        "### Step 5: label the topics ###\n",
        "\n",
        "Using the keywords in each topic , what topics were you able to infer?\n",
        "You should write down the inferred topic labels below.\n"
      ]
    },
    {
      "cell_type": "code",
      "execution_count": 19,
      "metadata": {
        "id": "rKpYXdz8_giT"
      },
      "outputs": [],
      "source": [
        "#Topic 0: Geographical locations & war\n",
        "#Topic 1: Economic & government issues\n",
        "#Topic 2: Political change & health\n",
        "#Topic 3: Natural disasters & legal issues\n",
        "#Topic 4: Legal issues & foreign affairs\n",
        "#Topic 5: Crime & law enforcement\n",
        "#Topic 6: Legal issues & court\n",
        "#Topic 7: Government politics\n",
        "#Topic 8: Social issues in government\n",
        "#Topic 9: Sports news"
      ]
    }
  ],
  "metadata": {
    "colab": {
      "provenance": []
    },
    "kernelspec": {
      "display_name": "Python 3 (ipykernel)",
      "language": "python",
      "name": "python3"
    },
    "language_info": {
      "codemirror_mode": {
        "name": "ipython",
        "version": 3
      },
      "file_extension": ".py",
      "mimetype": "text/x-python",
      "name": "python",
      "nbconvert_exporter": "python",
      "pygments_lexer": "ipython3",
      "version": "3.9.7"
    }
  },
  "nbformat": 4,
  "nbformat_minor": 0
}
